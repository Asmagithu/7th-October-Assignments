{
 "cells": [
  {
   "cell_type": "code",
   "execution_count": 1,
   "id": "538119e2",
   "metadata": {},
   "outputs": [
    {
     "name": "stdout",
     "output_type": "stream",
     "text": [
      "Enter an integer: 8\n",
      "8 is an even number.\n"
     ]
    }
   ],
   "source": [
    "# Read an integer from the user\n",
    "try:\n",
    "    num = int(input(\"Enter an integer: \"))\n",
    "    \n",
    "    # Check if the number is even or odd\n",
    "    if num % 2 == 0:\n",
    "        print(f\"{num} is an even number.\")\n",
    "    else:\n",
    "        print(f\"{num} is an odd number.\")\n",
    "except ValueError:\n",
    "    print(\"Invalid input. Please enter a valid integer.\")\n"
   ]
  },
  {
   "cell_type": "code",
   "execution_count": 3,
   "id": "0962d59b",
   "metadata": {},
   "outputs": [
    {
     "name": "stdout",
     "output_type": "stream",
     "text": [
      "Enter the number of human years: 5\n",
      "5.0 human years is equivalent to 33.0 dog years.\n"
     ]
    }
   ],
   "source": [
    "# Read the user's input\n",
    "try:\n",
    "    human_years = float(input(\"Enter the number of human years: \"))\n",
    "    \n",
    "    # Check if the input is negative\n",
    "    if human_years < 0:\n",
    "        print(\"Please enter a non-negative number of human years.\")\n",
    "    else:\n",
    "        # Convert human years to dog years\n",
    "        if human_years < 2:\n",
    "            dog_years = human_years * 10.5\n",
    "        else:\n",
    "            dog_years = 2 * 10.5 + (human_years - 2) * 4\n",
    "        \n",
    "        print(f\"{human_years} human years is equivalent to {dog_years} dog years.\")\n",
    "except ValueError:\n",
    "    print(\"Invalid input. Please enter a valid\")\n"
   ]
  },
  {
   "cell_type": "code",
   "execution_count": 5,
   "id": "9ac3f641",
   "metadata": {},
   "outputs": [
    {
     "name": "stdout",
     "output_type": "stream",
     "text": [
      "Enter a letter of the alphabet: y\n",
      "The letter 'y' is sometimes a vowel and sometimes a consonant.\n"
     ]
    }
   ],
   "source": [
    "# Read a letter from the user\n",
    "letter = input(\"Enter a letter of the alphabet: \").lower()\n",
    "\n",
    "# Check if the input is a single alphabet character\n",
    "if len(letter) != 1 or not letter.isalpha():\n",
    "    print(\"Please enter a single letter of the alphabet.\")\n",
    "else:\n",
    "    # Check if the letter is a vowel\n",
    "    if letter in ['a', 'e', 'i', 'o', 'u']:\n",
    "        print(f\"The letter '{letter}' is a vowel.\")\n",
    "    # Check if the letter is 'y'\n",
    "    elif letter == 'y':\n",
    "        print(\"The letter 'y' is sometimes a vowel and sometimes a consonant.\")\n",
    "    # If the letter is not a vowel or 'y', it's a consonant\n",
    "    else:\n",
    "        print(f\"The letter '{letter}' is a consonant.\")\n"
   ]
  },
  {
   "cell_type": "code",
   "execution_count": 6,
   "id": "ad834374",
   "metadata": {},
   "outputs": [
    {
     "name": "stdout",
     "output_type": "stream",
     "text": [
      "Enter the number of sides (3 to 10): 6\n",
      "A shape with 6 sides is called a hexagon.\n"
     ]
    }
   ],
   "source": [
    "# Read the number of sides from the user\n",
    "try:\n",
    "    num_sides = int(input(\"Enter the number of sides (3 to 10): \"))\n",
    "\n",
    "    # Check if the number of sides is within the valid range (3 to 10)\n",
    "    if 3 <= num_sides <= 10:\n",
    "        # Define a list of shape names\n",
    "        shape_names = [\"triangle\", \"quadrilateral\", \"pentagon\", \"hexagon\", \"heptagon\", \"octagon\", \"nonagon\", \"decagon\"]\n",
    "        \n",
    "        # Determine the shape name using the number of sides\n",
    "        shape_name = shape_names[num_sides - 3]\n",
    "        \n",
    "        print(f\"A shape with {num_sides} sides is called a {shape_name}.\")\n",
    "    else:\n",
    "        print(\"Invalid input. Please enter a number of sides between 3 and 10.\")\n",
    "except ValueError:\n",
    "    print(\"Invalid input. Please enter a valid number of sides.\")\n"
   ]
  },
  {
   "cell_type": "code",
   "execution_count": 7,
   "id": "83bef5e4",
   "metadata": {},
   "outputs": [
    {
     "name": "stdout",
     "output_type": "stream",
     "text": [
      "Enter the name of a month: july\n",
      "July has 31 days.\n"
     ]
    }
   ],
   "source": [
    "# Read the name of the month from the user\n",
    "month = input(\"Enter the name of a month: \").lower()\n",
    "\n",
    "# Define a dictionary to map month names to the number of days\n",
    "month_days = {\n",
    "    'january': 31,\n",
    "    'february': '28 or 29',\n",
    "    'march': 31,\n",
    "    'april': 30,\n",
    "    'may': 31,\n",
    "    'june': 30,\n",
    "    'july': 31,\n",
    "    'august': 31,\n",
    "    'september': 30,\n",
    "    'october': 31,\n",
    "    'november': 30,\n",
    "    'december': 31\n",
    "}\n",
    "\n",
    "# Check if it's February and account for leap years\n",
    "if month == 'february':\n",
    "    year = int(input(\"Enter a year: \"))\n",
    "    if (year % 4 == 0 and year % 100 != 0) or (year % 400 == 0):\n",
    "        month_days['february'] = 29\n",
    "    else:\n",
    "        month_days['february'] = 28\n",
    "\n",
    "# Display the number of days in the entered month\n",
    "if month in month_days:\n",
    "    days = month_days[month]\n",
    "    print(f\"{month.capitalize()} has {days} days.\")\n",
    "else:\n",
    "    print(\"Invalid month name. Please enter a valid month name.\")"
   ]
  },
  {
   "cell_type": "code",
   "execution_count": 8,
   "id": "782b1d7c",
   "metadata": {},
   "outputs": [
    {
     "name": "stdout",
     "output_type": "stream",
     "text": [
      "Enter the sound level in decibels: 60\n",
      "The sound level is between Quiet room noises.\n"
     ]
    }
   ],
   "source": [
    "# Define the noise levels in decibels\n",
    "noise_levels = {\n",
    "    'Jackhammer': 130,\n",
    "    'Gas lawnmower': 106,\n",
    "    'Alarm clock': 70,\n",
    "    'Quiet room': 40\n",
    "}\n",
    "\n",
    "# Read the sound level from the user\n",
    "try:\n",
    "    sound_level = int(input(\"Enter the sound level in decibels: \"))\n",
    "    \n",
    "    # Check if the sound level matches a known noise\n",
    "    if sound_level in noise_levels.values():\n",
    "        noise = [noise for noise, level in noise_levels.items() if level == sound_level]\n",
    "        print(f\"The noise is {noise[0]}\")\n",
    "    else:\n",
    "        # Find noises with levels between the user's input\n",
    "        between_noises = [noise for noise, level in noise_levels.items() if sound_level > level]\n",
    "        if between_noises:\n",
    "            message = f\"The sound level is between {', '.join(between_noises)} noises.\"\n",
    "            print(message)\n",
    "        else:\n",
    "            # Handle cases below the quietest noise\n",
    "            print(\"The sound level is quieter than the quietest noise.\")\n",
    "except ValueError:\n",
    "    print(\"Invalid input. Please enter a valid sound level in decibels.\")\n"
   ]
  },
  {
   "cell_type": "code",
   "execution_count": 10,
   "id": "3ffcf681",
   "metadata": {},
   "outputs": [
    {
     "name": "stdout",
     "output_type": "stream",
     "text": [
      "Enter a note (e.g., C4, D4, A4): C4\n",
      "The frequency of C4 is 261.63 Hz.\n"
     ]
    }
   ],
   "source": [
    "# Define the frequency of C4 and its corresponding notes\n",
    "note_frequencies = {\n",
    "    'C4': 261.63,\n",
    "    'D4': 293.66,\n",
    "    'E4': 329.63,\n",
    "    'F4': 349.23,\n",
    "    'G4': 392.00,\n",
    "    'A4': 440.00,\n",
    "    'B4': 493.88\n",
    "}\n",
    "\n",
    "# Read the note from the user\n",
    "note = input(\"Enter a note (e.g., C4, D4, A4): \")\n",
    "\n",
    "# Check if the input is valid\n",
    "if len(note) == 2 or (len(note) == 3 and note[2] in \"012345678\"):\n",
    "    letter = note[0]\n",
    "    octave = int(note[1])\n",
    "    \n",
    "    # Calculate the frequency based on the input note\n",
    "    if note in note_frequencies:\n",
    "        frequency = note_frequencies[note]\n",
    "    else:\n",
    "        # Calculate the frequency relative to C4 and adjust for the octave\n",
    "        base_frequency = note_frequencies['C4']\n",
    "        semitone_difference = 'CDEFGAB'.index(letter)\n",
    "        frequency = base_frequency * (2 ** (octave - 4)) * (2 ** (semitone_difference / 12))\n",
    "    \n",
    "    print(f\"The frequency of {note} is {frequency:.2f} Hz.\")\n",
    "else:\n",
    "    print(\"Invalid input. Please enter a valid note (e.g., C4, D4, A4).\")\n"
   ]
  },
  {
   "cell_type": "code",
   "execution_count": 11,
   "id": "72455d0c",
   "metadata": {},
   "outputs": [
    {
     "name": "stdout",
     "output_type": "stream",
     "text": [
      "Enter a frequency in Hz: 567\n",
      "The frequency does not correspond to a known note.\n"
     ]
    }
   ],
   "source": [
    "# Define the note frequencies from the table\n",
    "note_frequencies = {\n",
    "    'C4': 261.63,\n",
    "    'D4': 293.66,\n",
    "    'E4': 329.63,\n",
    "    'F4': 349.23,\n",
    "    'G4': 392.00,\n",
    "    'A4': 440.00,\n",
    "    'B4': 493.88\n",
    "}\n",
    "\n",
    "# Read the frequency from the user\n",
    "try:\n",
    "    frequency = float(input(\"Enter a frequency in Hz: \"))\n",
    "\n",
    "    # Check if the frequency is within one Hertz of a known note\n",
    "    matched_note = None\n",
    "    for note, freq in note_frequencies.items():\n",
    "        if abs(frequency - freq) <= 1:\n",
    "            matched_note = note\n",
    "            break\n",
    "\n",
    "    if matched_note:\n",
    "        print(f\"The frequency {frequency} Hz corresponds to the note {matched_note}.\")\n",
    "    else:\n",
    "        print(\"The frequency does not correspond to a known note.\")\n",
    "except ValueError:\n",
    "    print(\"Invalid input. Please enter a valid frequency in Hz.\")\n"
   ]
  },
  {
   "cell_type": "code",
   "execution_count": 12,
   "id": "b03cf7a6",
   "metadata": {},
   "outputs": [
    {
     "name": "stdout",
     "output_type": "stream",
     "text": [
      "Enter the wavelength in nanometers (380 to 750 nm): 729\n",
      "The color for a wavelength of 729.0 nm is Red.\n"
     ]
    }
   ],
   "source": [
    "# Read the wavelength from the user\n",
    "try:\n",
    "    wavelength = float(input(\"Enter the wavelength in nanometers (380 to 750 nm): \"))\n",
    "\n",
    "    # Define the color ranges and their corresponding names\n",
    "    color_ranges = {\n",
    "        'Violet': (380, 450),\n",
    "        'Blue': (450, 495),\n",
    "        'Green': (495, 570),\n",
    "        'Yellow': (570, 590),\n",
    "        'Orange': (590, 620),\n",
    "        'Red': (620, 750)\n",
    "    }\n",
    "\n",
    "    # Determine the color based on the entered wavelength\n",
    "    color = None\n",
    "    for name, (min_wavelength, max_wavelength) in color_ranges.items():\n",
    "        if min_wavelength <= wavelength < max_wavelength:\n",
    "            color = name\n",
    "            break\n",
    "\n",
    "    if color:\n",
    "        print(f\"The color for a wavelength of {wavelength} nm is {color}.\")\n",
    "    else:\n",
    "        print(\"Wavelength is outside the visible spectrum.\")\n",
    "except ValueError:\n",
    "    print(\"Invalid input. Please enter a valid wavelength in nanometers.\")\n"
   ]
  },
  {
   "cell_type": "code",
   "execution_count": 31,
   "id": "bc5bb757",
   "metadata": {},
   "outputs": [
    {
     "name": "stdout",
     "output_type": "stream",
     "text": [
      "Enter a list of numbers separated by spaces: 9 6 4 2 4 5 0 1 \n",
      "Enter the number of outliers to remove (e.g., 2): 2\n",
      "List with outliers removed: [2.0, 4.0, 4.0, 5.0]\n",
      "Original list: [9.0, 6.0, 4.0, 2.0, 4.0, 5.0, 0.0, 1.0]\n"
     ]
    }
   ],
   "source": [
    "def remove_outliers(values, n):\n",
    "    # Check if there are at least 4 values in the list\n",
    "    if len(values) < 4:\n",
    "        return \"Error: Not enough values to remove outliers.\"\n",
    "    \n",
    "    # Sort the list in ascending order\n",
    "    sorted_values = sorted(values)\n",
    "    \n",
    "    # Remove the n largest and n smallest values\n",
    "    trimmed_values = sorted_values[n:-n]\n",
    "    \n",
    "    return trimmed_values\n",
    "\n",
    "# Main program\n",
    "try:\n",
    "    # Read a list of numbers from the user\n",
    "    num_list = input(\"Enter a list of numbers separated by spaces: \").split()\n",
    "    values = [float(num) for num in num_list]\n",
    "\n",
    "    # Read the number of outliers to remove (n)\n",
    "    n = int(input(\"Enter the number of outliers to remove (e.g., 2): \"))\n",
    "\n",
    "    # Call the remove_outliers function\n",
    "    result = remove_outliers(values, n)\n",
    "\n",
    "    if isinstance(result, str):\n",
    "        print(result)\n",
    "    else:\n",
    "        print(\"List with outliers removed:\", result)\n",
    "        print(\"Original list:\", values)\n",
    "except ValueError:\n",
    "    print(\"Invalid input. Please enter a valid list of numbers and a non-negative integer.\")\n"
   ]
  },
  {
   "cell_type": "code",
   "execution_count": 38,
   "id": "3ac50971",
   "metadata": {},
   "outputs": [
    {
     "name": "stdout",
     "output_type": "stream",
     "text": [
      "Enter a string of text: they, you, exclude, zebra, oil\n",
      "List of words with punctuation removed: ['they', 'you', 'exclude', 'zebra', 'oil']\n"
     ]
    }
   ],
   "source": [
    "import string\n",
    "\n",
    "def extract_words(text):\n",
    "    # Define a set of punctuation marks to remove from the edges of words\n",
    "    punctuation_to_remove = string.punctuation.replace(\"'\", \"\")  # Keep apostrophes\n",
    "\n",
    "    # Split the text into words\n",
    "    words = text.split()\n",
    "\n",
    "    # Initialize a list to store the cleaned words\n",
    "    cleaned_words = []\n",
    "\n",
    "    for word in words:\n",
    "        # Remove punctuation marks from the edges of the word\n",
    "        cleaned_word = word.strip(punctuation_to_remove)\n",
    "\n",
    "        # Append the cleaned word to the list if it's not empty\n",
    "        if cleaned_word:\n",
    "            cleaned_words.append(cleaned_word)\n",
    "\n",
    "    return cleaned_words\n",
    "\n",
    "if __name__ == \"__main__\":\n",
    "    # Get input from the user\n",
    "    user_input = input(\"Enter a string of text: \")\n",
    "\n",
    "    # Call the extract_words function to get a list of words\n",
    "    word_list = extract_words(user_input)\n",
    "\n",
    "    # Display the list of cleaned words\n",
    "    print(\"List of words with punctuation removed:\", word_list)\n"
   ]
  },
  {
   "cell_type": "code",
   "execution_count": null,
   "id": "e17628f6",
   "metadata": {},
   "outputs": [],
   "source": []
  }
 ],
 "metadata": {
  "kernelspec": {
   "display_name": "Python 3 (ipykernel)",
   "language": "python",
   "name": "python3"
  },
  "language_info": {
   "codemirror_mode": {
    "name": "ipython",
    "version": 3
   },
   "file_extension": ".py",
   "mimetype": "text/x-python",
   "name": "python",
   "nbconvert_exporter": "python",
   "pygments_lexer": "ipython3",
   "version": "3.11.4"
  }
 },
 "nbformat": 4,
 "nbformat_minor": 5
}
